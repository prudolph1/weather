{
 "metadata": {
  "language_info": {
   "codemirror_mode": {
    "name": "ipython",
    "version": 3
   },
   "file_extension": ".py",
   "mimetype": "text/x-python",
   "name": "python",
   "nbconvert_exporter": "python",
   "pygments_lexer": "ipython3",
   "version": "3.8.3-final"
  },
  "orig_nbformat": 2,
  "kernelspec": {
   "name": "python3",
   "display_name": "Python 3",
   "language": "python"
  }
 },
 "nbformat": 4,
 "nbformat_minor": 2,
 "cells": [
  {
   "cell_type": "code",
   "execution_count": 1,
   "metadata": {},
   "outputs": [],
   "source": [
    "import requests\n",
    "import datetime\n",
    "import numpy as np\n",
    "import pandas as pd\n",
    "import os\n",
    "import sys"
   ]
  },
  {
   "source": [
    "## Request Token\n",
    "https://www.ncdc.noaa.gov/cdo-web/token"
   ],
   "cell_type": "markdown",
   "metadata": {}
  },
  {
   "cell_type": "code",
   "execution_count": 2,
   "metadata": {},
   "outputs": [],
   "source": [
    "noaa_token = 'YjIYCaXvLAVreyDFpRAFunMomNtvQrJD'"
   ]
  },
  {
   "source": [
    "## Pick Weather Station\n",
    "https://www.ncdc.noaa.gov/cdo-web/datatools/findstation\n",
    "\n",
    "Select Daily Summaries --> Air Temp, Precipitation, Wind, etc.\n"
   ],
   "cell_type": "markdown",
   "metadata": {}
  },
  {
   "cell_type": "code",
   "execution_count": 3,
   "metadata": {},
   "outputs": [],
   "source": [
    "datasetid='GHCND'"
   ]
  },
  {
   "cell_type": "code",
   "execution_count": 4,
   "metadata": {},
   "outputs": [],
   "source": [
    "# Nashville, TN station\n",
    "station_id = 'GHCND:USW00013897'"
   ]
  },
  {
   "cell_type": "code",
   "execution_count": 5,
   "metadata": {},
   "outputs": [],
   "source": [
    "start_date = '2020-01-01'\n",
    "end_date = '2020-12-31'"
   ]
  },
  {
   "cell_type": "code",
   "execution_count": 6,
   "metadata": {},
   "outputs": [],
   "source": [
    "base_url_data = 'https://www.ncdc.noaa.gov/cdo-web/api/v2/data'\n",
    "base_url_stations = 'https://www.ncdc.noaa.gov/cdo-web/api/v2/stations'\n",
    "base_url_datatypes = 'https://www.ncdc.noaa.gov/cdo-web/api/v2/datatypes'\n",
    "base_url_datasets = 'https://www.ncdc.noaa.gov/cdo-web/api/v2/datasets'"
   ]
  },
  {
   "cell_type": "code",
   "execution_count": 7,
   "metadata": {},
   "outputs": [],
   "source": [
    "token = {'token': noaa_token}"
   ]
  },
  {
   "cell_type": "code",
   "execution_count": 16,
   "metadata": {},
   "outputs": [],
   "source": [
    "# list datasets for station ID\n",
    "params = 'stationid='+station_id+'&'+'limit=1000'\n",
    "\n",
    "r = requests.get(base_url_datasets, params = params, headers=token)\n",
    "\n",
    "df = pd.DataFrame.from_dict(r.json()['results'])"
   ]
  },
  {
   "cell_type": "code",
   "execution_count": 17,
   "metadata": {},
   "outputs": [
    {
     "output_type": "display_data",
     "data": {
      "text/plain": "                    uid     mindate     maxdate                         name  \\\n0  gov.noaa.ncdc:C00861  1763-01-01  2021-02-20              Daily Summaries   \n1  gov.noaa.ncdc:C00946  1763-01-01  2021-02-01  Global Summary of the Month   \n2  gov.noaa.ncdc:C00947  1763-01-01  2021-01-01   Global Summary of the Year   \n3  gov.noaa.ncdc:C00821  2010-01-01  2010-01-01      Normals Annual/Seasonal   \n4  gov.noaa.ncdc:C00823  2010-01-01  2010-12-31                Normals Daily   \n5  gov.noaa.ncdc:C00824  2010-01-01  2010-12-31               Normals Hourly   \n6  gov.noaa.ncdc:C00822  2010-01-01  2010-12-01              Normals Monthly   \n\n   datacoverage          id  \n0             1       GHCND  \n1             1        GSOM  \n2             1        GSOY  \n3             1  NORMAL_ANN  \n4             1  NORMAL_DLY  \n5             1  NORMAL_HLY  \n6             1  NORMAL_MLY  ",
      "text/html": "<div>\n<style scoped>\n    .dataframe tbody tr th:only-of-type {\n        vertical-align: middle;\n    }\n\n    .dataframe tbody tr th {\n        vertical-align: top;\n    }\n\n    .dataframe thead th {\n        text-align: right;\n    }\n</style>\n<table border=\"1\" class=\"dataframe\">\n  <thead>\n    <tr style=\"text-align: right;\">\n      <th></th>\n      <th>uid</th>\n      <th>mindate</th>\n      <th>maxdate</th>\n      <th>name</th>\n      <th>datacoverage</th>\n      <th>id</th>\n    </tr>\n  </thead>\n  <tbody>\n    <tr>\n      <th>0</th>\n      <td>gov.noaa.ncdc:C00861</td>\n      <td>1763-01-01</td>\n      <td>2021-02-20</td>\n      <td>Daily Summaries</td>\n      <td>1</td>\n      <td>GHCND</td>\n    </tr>\n    <tr>\n      <th>1</th>\n      <td>gov.noaa.ncdc:C00946</td>\n      <td>1763-01-01</td>\n      <td>2021-02-01</td>\n      <td>Global Summary of the Month</td>\n      <td>1</td>\n      <td>GSOM</td>\n    </tr>\n    <tr>\n      <th>2</th>\n      <td>gov.noaa.ncdc:C00947</td>\n      <td>1763-01-01</td>\n      <td>2021-01-01</td>\n      <td>Global Summary of the Year</td>\n      <td>1</td>\n      <td>GSOY</td>\n    </tr>\n    <tr>\n      <th>3</th>\n      <td>gov.noaa.ncdc:C00821</td>\n      <td>2010-01-01</td>\n      <td>2010-01-01</td>\n      <td>Normals Annual/Seasonal</td>\n      <td>1</td>\n      <td>NORMAL_ANN</td>\n    </tr>\n    <tr>\n      <th>4</th>\n      <td>gov.noaa.ncdc:C00823</td>\n      <td>2010-01-01</td>\n      <td>2010-12-31</td>\n      <td>Normals Daily</td>\n      <td>1</td>\n      <td>NORMAL_DLY</td>\n    </tr>\n    <tr>\n      <th>5</th>\n      <td>gov.noaa.ncdc:C00824</td>\n      <td>2010-01-01</td>\n      <td>2010-12-31</td>\n      <td>Normals Hourly</td>\n      <td>1</td>\n      <td>NORMAL_HLY</td>\n    </tr>\n    <tr>\n      <th>6</th>\n      <td>gov.noaa.ncdc:C00822</td>\n      <td>2010-01-01</td>\n      <td>2010-12-01</td>\n      <td>Normals Monthly</td>\n      <td>1</td>\n      <td>NORMAL_MLY</td>\n    </tr>\n  </tbody>\n</table>\n</div>"
     },
     "metadata": {}
    }
   ],
   "source": [
    "display(df)"
   ]
  },
  {
   "cell_type": "code",
   "execution_count": 18,
   "metadata": {},
   "outputs": [],
   "source": [
    "# list datatypes for station ID\n",
    "params = 'stationid='+station_id+'&'+'limit=1000'\n",
    "\n",
    "r = requests.get(base_url_datatypes, params = params, headers=token)\n",
    "\n",
    "df = pd.DataFrame.from_dict(r.json()['results'])"
   ]
  },
  {
   "cell_type": "code",
   "execution_count": 19,
   "metadata": {},
   "outputs": [
    {
     "output_type": "display_data",
     "data": {
      "text/plain": "        mindate     maxdate  \\\n0    1965-01-01  2005-12-31   \n1    1965-01-01  2005-12-31   \n2    2010-01-01  2010-01-01   \n3    2010-01-01  2010-01-01   \n4    2010-01-01  2010-01-01   \n..          ...         ...   \n688  1996-07-01  2013-03-31   \n689  1979-01-01  2017-03-26   \n690  1996-07-02  2005-12-31   \n691  2010-01-01  2010-12-31   \n692  2010-01-01  2010-12-31   \n\n                                                  name  datacoverage  \\\n0    Average cloudiness midnight to midnight from m...             1   \n1    Average cloudiness sunrise to sunset from manu...             1   \n2    Long-term averages of annual cooling degree da...             1   \n3    Long-term averages of annual cooling degree da...             1   \n4    Long-term averages of annual cooling degree da...             1   \n..                                                 ...           ...   \n688                                        Ground fog              1   \n689                            Ice fog or freezing fog             1   \n690                                            Thunder             1   \n691  Long-term average year-to-date precipitation t...             1   \n692     Long-term average year-to-date snowfall totals             1   \n\n                  id  \n0               ACMH  \n1               ACSH  \n2    ANN-CLDD-BASE45  \n3    ANN-CLDD-BASE50  \n4    ANN-CLDD-BASE55  \n..               ...  \n688             WT21  \n689             WT22  \n690             WV03  \n691  YTD-PRCP-NORMAL  \n692  YTD-SNOW-NORMAL  \n\n[693 rows x 5 columns]",
      "text/html": "<div>\n<style scoped>\n    .dataframe tbody tr th:only-of-type {\n        vertical-align: middle;\n    }\n\n    .dataframe tbody tr th {\n        vertical-align: top;\n    }\n\n    .dataframe thead th {\n        text-align: right;\n    }\n</style>\n<table border=\"1\" class=\"dataframe\">\n  <thead>\n    <tr style=\"text-align: right;\">\n      <th></th>\n      <th>mindate</th>\n      <th>maxdate</th>\n      <th>name</th>\n      <th>datacoverage</th>\n      <th>id</th>\n    </tr>\n  </thead>\n  <tbody>\n    <tr>\n      <th>0</th>\n      <td>1965-01-01</td>\n      <td>2005-12-31</td>\n      <td>Average cloudiness midnight to midnight from m...</td>\n      <td>1</td>\n      <td>ACMH</td>\n    </tr>\n    <tr>\n      <th>1</th>\n      <td>1965-01-01</td>\n      <td>2005-12-31</td>\n      <td>Average cloudiness sunrise to sunset from manu...</td>\n      <td>1</td>\n      <td>ACSH</td>\n    </tr>\n    <tr>\n      <th>2</th>\n      <td>2010-01-01</td>\n      <td>2010-01-01</td>\n      <td>Long-term averages of annual cooling degree da...</td>\n      <td>1</td>\n      <td>ANN-CLDD-BASE45</td>\n    </tr>\n    <tr>\n      <th>3</th>\n      <td>2010-01-01</td>\n      <td>2010-01-01</td>\n      <td>Long-term averages of annual cooling degree da...</td>\n      <td>1</td>\n      <td>ANN-CLDD-BASE50</td>\n    </tr>\n    <tr>\n      <th>4</th>\n      <td>2010-01-01</td>\n      <td>2010-01-01</td>\n      <td>Long-term averages of annual cooling degree da...</td>\n      <td>1</td>\n      <td>ANN-CLDD-BASE55</td>\n    </tr>\n    <tr>\n      <th>...</th>\n      <td>...</td>\n      <td>...</td>\n      <td>...</td>\n      <td>...</td>\n      <td>...</td>\n    </tr>\n    <tr>\n      <th>688</th>\n      <td>1996-07-01</td>\n      <td>2013-03-31</td>\n      <td>Ground fog</td>\n      <td>1</td>\n      <td>WT21</td>\n    </tr>\n    <tr>\n      <th>689</th>\n      <td>1979-01-01</td>\n      <td>2017-03-26</td>\n      <td>Ice fog or freezing fog</td>\n      <td>1</td>\n      <td>WT22</td>\n    </tr>\n    <tr>\n      <th>690</th>\n      <td>1996-07-02</td>\n      <td>2005-12-31</td>\n      <td>Thunder</td>\n      <td>1</td>\n      <td>WV03</td>\n    </tr>\n    <tr>\n      <th>691</th>\n      <td>2010-01-01</td>\n      <td>2010-12-31</td>\n      <td>Long-term average year-to-date precipitation t...</td>\n      <td>1</td>\n      <td>YTD-PRCP-NORMAL</td>\n    </tr>\n    <tr>\n      <th>692</th>\n      <td>2010-01-01</td>\n      <td>2010-12-31</td>\n      <td>Long-term average year-to-date snowfall totals</td>\n      <td>1</td>\n      <td>YTD-SNOW-NORMAL</td>\n    </tr>\n  </tbody>\n</table>\n<p>693 rows × 5 columns</p>\n</div>"
     },
     "metadata": {}
    }
   ],
   "source": [
    "display(df)"
   ]
  },
  {
   "cell_type": "code",
   "execution_count": 20,
   "metadata": {},
   "outputs": [],
   "source": [
    "datasetid = 'GHCND'"
   ]
  },
  {
   "cell_type": "code",
   "execution_count": 21,
   "metadata": {},
   "outputs": [],
   "source": [
    "token = {'token': noaa_token}\n",
    "\n",
    "#passing as string instead of dict because NOAA API does not like percent encoding\n",
    "params = 'datasetid='+datasetid+'&'+'stationid='+station_id+'&'+'startdate='+start_date+'&'+'enddate='+end_date+'&'+'limit=1000'+'&'+'units=standard'\n",
    "\n",
    "r = requests.get(base_url_data, params = params, headers=token)\n",
    "\n",
    "df = pd.DataFrame.from_dict(r.json()['results'])"
   ]
  },
  {
   "cell_type": "code",
   "execution_count": 23,
   "metadata": {},
   "outputs": [
    {
     "output_type": "display_data",
     "data": {
      "text/plain": "                    date datatype            station attributes  value\n0    2020-01-01T00:00:00     AWND  GHCND:USW00013897       ,,W,    6.0\n1    2020-01-01T00:00:00     PRCP  GHCND:USW00013897   ,,W,2400    0.0\n2    2020-01-01T00:00:00     SNOW  GHCND:USW00013897       ,,W,    0.0\n3    2020-01-01T00:00:00     SNWD  GHCND:USW00013897   ,,W,0600    0.0\n4    2020-01-01T00:00:00     TAVG  GHCND:USW00013897      H,,S,   42.0\n..                   ...      ...                ...        ...    ...\n995  2020-03-24T00:00:00     TAVG  GHCND:USW00013897      H,,S,   53.0\n996  2020-03-24T00:00:00     TMAX  GHCND:USW00013897   ,,W,2400   63.0\n997  2020-03-24T00:00:00     TMIN  GHCND:USW00013897   ,,W,2400   46.0\n998  2020-03-24T00:00:00     WDF2  GHCND:USW00013897       ,,W,  310.0\n999  2020-03-24T00:00:00     WDF5  GHCND:USW00013897       ,,W,  300.0\n\n[1000 rows x 5 columns]",
      "text/html": "<div>\n<style scoped>\n    .dataframe tbody tr th:only-of-type {\n        vertical-align: middle;\n    }\n\n    .dataframe tbody tr th {\n        vertical-align: top;\n    }\n\n    .dataframe thead th {\n        text-align: right;\n    }\n</style>\n<table border=\"1\" class=\"dataframe\">\n  <thead>\n    <tr style=\"text-align: right;\">\n      <th></th>\n      <th>date</th>\n      <th>datatype</th>\n      <th>station</th>\n      <th>attributes</th>\n      <th>value</th>\n    </tr>\n  </thead>\n  <tbody>\n    <tr>\n      <th>0</th>\n      <td>2020-01-01T00:00:00</td>\n      <td>AWND</td>\n      <td>GHCND:USW00013897</td>\n      <td>,,W,</td>\n      <td>6.0</td>\n    </tr>\n    <tr>\n      <th>1</th>\n      <td>2020-01-01T00:00:00</td>\n      <td>PRCP</td>\n      <td>GHCND:USW00013897</td>\n      <td>,,W,2400</td>\n      <td>0.0</td>\n    </tr>\n    <tr>\n      <th>2</th>\n      <td>2020-01-01T00:00:00</td>\n      <td>SNOW</td>\n      <td>GHCND:USW00013897</td>\n      <td>,,W,</td>\n      <td>0.0</td>\n    </tr>\n    <tr>\n      <th>3</th>\n      <td>2020-01-01T00:00:00</td>\n      <td>SNWD</td>\n      <td>GHCND:USW00013897</td>\n      <td>,,W,0600</td>\n      <td>0.0</td>\n    </tr>\n    <tr>\n      <th>4</th>\n      <td>2020-01-01T00:00:00</td>\n      <td>TAVG</td>\n      <td>GHCND:USW00013897</td>\n      <td>H,,S,</td>\n      <td>42.0</td>\n    </tr>\n    <tr>\n      <th>...</th>\n      <td>...</td>\n      <td>...</td>\n      <td>...</td>\n      <td>...</td>\n      <td>...</td>\n    </tr>\n    <tr>\n      <th>995</th>\n      <td>2020-03-24T00:00:00</td>\n      <td>TAVG</td>\n      <td>GHCND:USW00013897</td>\n      <td>H,,S,</td>\n      <td>53.0</td>\n    </tr>\n    <tr>\n      <th>996</th>\n      <td>2020-03-24T00:00:00</td>\n      <td>TMAX</td>\n      <td>GHCND:USW00013897</td>\n      <td>,,W,2400</td>\n      <td>63.0</td>\n    </tr>\n    <tr>\n      <th>997</th>\n      <td>2020-03-24T00:00:00</td>\n      <td>TMIN</td>\n      <td>GHCND:USW00013897</td>\n      <td>,,W,2400</td>\n      <td>46.0</td>\n    </tr>\n    <tr>\n      <th>998</th>\n      <td>2020-03-24T00:00:00</td>\n      <td>WDF2</td>\n      <td>GHCND:USW00013897</td>\n      <td>,,W,</td>\n      <td>310.0</td>\n    </tr>\n    <tr>\n      <th>999</th>\n      <td>2020-03-24T00:00:00</td>\n      <td>WDF5</td>\n      <td>GHCND:USW00013897</td>\n      <td>,,W,</td>\n      <td>300.0</td>\n    </tr>\n  </tbody>\n</table>\n<p>1000 rows × 5 columns</p>\n</div>"
     },
     "metadata": {}
    }
   ],
   "source": [
    "display(df)"
   ]
  },
  {
   "cell_type": "code",
   "execution_count": null,
   "metadata": {},
   "outputs": [],
   "source": []
  }
 ]
}